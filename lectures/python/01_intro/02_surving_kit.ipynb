{
 "cells": [
  {
   "cell_type": "markdown",
   "metadata": {},
   "source": [
    "## Surviving kit\n",
    " - `print`\n",
    " - `type`\n",
    " - `help`\n",
    " - `dir`"
   ]
  },
  {
   "cell_type": "code",
   "execution_count": null,
   "metadata": {},
   "outputs": [],
   "source": [
    "print(\"hello\", \"world\")"
   ]
  },
  {
   "cell_type": "code",
   "execution_count": null,
   "metadata": {},
   "outputs": [],
   "source": [
    "print(type(\"hello\"))\n",
    "print(type(1))\n",
    "print(type(True))"
   ]
  },
  {
   "cell_type": "code",
   "execution_count": null,
   "metadata": {},
   "outputs": [],
   "source": [
    "help(1)\n"
   ]
  },
  {
   "cell_type": "code",
   "execution_count": null,
   "metadata": {},
   "outputs": [],
   "source": [
    "help(None)"
   ]
  },
  {
   "cell_type": "code",
   "execution_count": null,
   "metadata": {},
   "outputs": [],
   "source": [
    "IIII = 1\n",
    "FFFF = 3.3\n",
    "SSSS = 'cc'\n",
    "BBBB = False\n",
    "\n",
    "print(dir())"
   ]
  },
  {
   "cell_type": "code",
   "execution_count": null,
   "metadata": {},
   "outputs": [],
   "source": [
    "print(dir(1))"
   ]
  },
  {
   "cell_type": "markdown",
   "metadata": {},
   "source": [
    "\n",
    "## Loops\n",
    "\n",
    "* loop statements\n",
    " * while, for, break, continue, else keywords\n",
    "* range(\\[start,\\]stop\\[,step\\]) is very handy in loops\n",
    " * returns an object that produces a sequence of integers from start (inclusive, default 0) to stop (exclusive) by step (default 1)\n",
    " * start, stop and step must be integers\n",
    "* pass statement is a reminder and can be used anywhere\n",
    "\n",
    "* --\n",
    "``` python\n",
    "for <var> in <set_of_values>: \n",
    "    <body>\n",
    "    if <condition>:\n",
    "        continue\n",
    "    <something_that_runs_if_condition_not_True>        \n",
    "```\n",
    "* --\n",
    "``` python    \n",
    "while <true_condition>:\n",
    "    <body>\n",
    "    if <another_condition>:\n",
    "        break    \n",
    "``` \n"
   ]
  },
  {
   "cell_type": "markdown",
   "metadata": {},
   "source": [
    "## Control flow"
   ]
  },
  {
   "cell_type": "code",
   "execution_count": null,
   "metadata": {},
   "outputs": [],
   "source": [
    "color = \"red\"\n",
    "if color == \"blue\":\n",
    "    print(\"you have chosen blue\")\n",
    "elif color == \"yellow\":\n",
    "    print(\"you chose yellow\")\n",
    "else:\n",
    "    print(\"other color\")\n",
    "        "
   ]
  },
  {
   "cell_type": "markdown",
   "metadata": {},
   "source": [
    "### What about the assembly?"
   ]
  },
  {
   "cell_type": "code",
   "execution_count": 2,
   "metadata": {},
   "outputs": [
    {
     "name": "stdout",
     "output_type": "stream",
     "text": [
      "hello world\n",
      " 81           0 LOAD_FAST                0 (tb)\n",
      "              2 LOAD_CONST               1 (None)\n",
      "              4 COMPARE_OP               8 (is)\n",
      "              6 POP_JUMP_IF_FALSE       68\n",
      "\n",
      " 82           8 SETUP_EXCEPT            10 (to 20)\n",
      "\n",
      " 83          10 LOAD_GLOBAL              0 (sys)\n",
      "             12 LOAD_ATTR                1 (last_traceback)\n",
      "             14 STORE_FAST               0 (tb)\n",
      "             16 POP_BLOCK\n",
      "             18 JUMP_FORWARD            30 (to 50)\n",
      "\n",
      " 84     >>   20 DUP_TOP\n",
      "             22 LOAD_GLOBAL              2 (AttributeError)\n",
      "             24 COMPARE_OP              10 (exception match)\n",
      "             26 POP_JUMP_IF_FALSE       48\n",
      "             28 POP_TOP\n",
      "             30 POP_TOP\n",
      "             32 POP_TOP\n",
      "\n",
      " 85          34 LOAD_GLOBAL              3 (RuntimeError)\n",
      "             36 LOAD_CONST               2 ('no last traceback to disassemble')\n",
      "             38 CALL_FUNCTION            1\n",
      "             40 LOAD_CONST               1 (None)\n",
      "    -->      42 RAISE_VARARGS            2\n",
      "             44 POP_EXCEPT\n",
      "             46 JUMP_FORWARD             2 (to 50)\n",
      "        >>   48 END_FINALLY\n",
      "\n",
      " 86     >>   50 SETUP_LOOP              16 (to 68)\n",
      "        >>   52 LOAD_FAST                0 (tb)\n",
      "             54 LOAD_ATTR                4 (tb_next)\n",
      "             56 POP_JUMP_IF_FALSE       66\n",
      "             58 LOAD_FAST                0 (tb)\n",
      "             60 LOAD_ATTR                4 (tb_next)\n",
      "             62 STORE_FAST               0 (tb)\n",
      "             64 JUMP_ABSOLUTE           52\n",
      "        >>   66 POP_BLOCK\n",
      "\n",
      " 87     >>   68 LOAD_GLOBAL              5 (disassemble)\n",
      "             70 LOAD_FAST                0 (tb)\n",
      "             72 LOAD_ATTR                6 (tb_frame)\n",
      "             74 LOAD_ATTR                7 (f_code)\n",
      "             76 LOAD_FAST                0 (tb)\n",
      "             78 LOAD_ATTR                8 (tb_lasti)\n",
      "             80 LOAD_FAST                1 (file)\n",
      "             82 LOAD_CONST               3 (('file',))\n",
      "             84 CALL_FUNCTION_KW         3\n",
      "             86 POP_TOP\n",
      "             88 LOAD_CONST               1 (None)\n",
      "             90 RETURN_VALUE\n"
     ]
    }
   ],
   "source": [
    "from dis import dis\n",
    "\n",
    "dis(print(\"hello\",\"world\"))"
   ]
  },
  {
   "cell_type": "code",
   "execution_count": null,
   "metadata": {},
   "outputs": [],
   "source": []
  }
 ],
 "metadata": {
  "kernelspec": {
   "display_name": "Python 3",
   "language": "python",
   "name": "python3"
  },
  "language_info": {
   "codemirror_mode": {
    "name": "ipython",
    "version": 3
   },
   "file_extension": ".py",
   "mimetype": "text/x-python",
   "name": "python",
   "nbconvert_exporter": "python",
   "pygments_lexer": "ipython3",
   "version": "3.7.0"
  }
 },
 "nbformat": 4,
 "nbformat_minor": 2
}
